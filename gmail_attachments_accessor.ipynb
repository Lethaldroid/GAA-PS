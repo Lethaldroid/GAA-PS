{
 "cells": [
  {
   "cell_type": "code",
   "execution_count": 1,
   "metadata": {},
   "outputs": [],
   "source": [
    "import os\n",
    "import base64\n",
    "from googleapiclient.discovery import build\n",
    "from google_auth_oauthlib.flow import InstalledAppFlow\n",
    "from google.auth.transport.requests import Request\n",
    "import pickle\n",
    "\n",
    "# Define the scope\n",
    "SCOPES = ['https://www.googleapis.com/auth/gmail.modify']\n",
    "\n",
    "# Authenticate and initialize the Gmail API\n",
    "def authenticate_gmail():\n",
    "    creds = None\n",
    "    # Load credentials if previously saved\n",
    "    if os.path.exists('token.pickle'):\n",
    "        with open('token.pickle', 'rb') as token:\n",
    "            creds = pickle.load(token)\n",
    "    # If no valid credentials, log in\n",
    "    if not creds or not creds.valid:\n",
    "        if creds and creds.expired and creds.refresh_token:\n",
    "            creds.refresh(Request())\n",
    "        else:\n",
    "            flow = InstalledAppFlow.from_client_secrets_file(\n",
    "                'credentials.json', SCOPES)\n",
    "            creds = flow.run_local_server(port=8080)\n",
    "        # Save credentials\n",
    "        with open('token.pickle', 'wb') as token:\n",
    "            pickle.dump(creds, token)\n",
    "\n",
    "    return build('gmail', 'v1', credentials=creds)"
   ]
  },
  {
   "cell_type": "code",
   "execution_count": 2,
   "metadata": {},
   "outputs": [],
   "source": [
    "import base64\n",
    "import os\n",
    "import re\n",
    "from googleapiclient.discovery import build\n",
    "\n",
    "def sanitize_folder_name(folder_name):\n",
    "    \"\"\"\n",
    "    Sanitize a folder name to remove invalid characters for file systems.\n",
    "    \"\"\"\n",
    "    return re.sub(r'[<>:\"/\\\\|?*]', '_', folder_name)\n",
    "\n",
    "def get_new_email_attachments(service, user_id='me'):\n",
    "    \"\"\"\n",
    "    Fetch attachments from unread emails, organize them by sender email and subject, \n",
    "    and mark emails as read after processing.\n",
    "    \n",
    "    Args:\n",
    "        service: The Gmail API service instance.\n",
    "        user_id: The email address of the user. Default is 'me' (current authenticated user).\n",
    "    \"\"\"\n",
    "    # Fetch unread emails with attachments\n",
    "    query = 'is:unread has:attachment'\n",
    "    results = service.users().messages().list(userId=user_id, q=query).execute()\n",
    "    messages = results.get('messages', [])\n",
    "    \n",
    "    if not messages:\n",
    "        print(\"No new emails with attachments.\")\n",
    "        return\n",
    "\n",
    "    for message in messages:\n",
    "        # Get email details\n",
    "        msg = service.users().messages().get(userId=user_id, id=message['id']).execute()\n",
    "        \n",
    "        # Extract sender, date, and subject information\n",
    "        headers = msg['payload']['headers']\n",
    "        sender = next(header['value'] for header in headers if header['name'] == 'From')\n",
    "        subject = next((header['value'] for header in headers if header['name'] == 'Subject'), 'No Subject')\n",
    "        date = next(header['value'] for header in headers if header['name'] == 'Date')\n",
    "        \n",
    "        # Extract email address from sender\n",
    "        sender_email = sender.split('<')[-1].strip('>')\n",
    "        \n",
    "        print(f\"Processing email from: {sender} (Email: {sender_email}), Date: {date}, Subject: {subject}\")\n",
    "        \n",
    "        # Create folder structure\n",
    "        base_folder = 'attachments'\n",
    "        sender_folder = sanitize_folder_name(sender_email)\n",
    "        subject_folder = sanitize_folder_name(subject)\n",
    "        full_path = os.path.join(base_folder, sender_folder, subject_folder)\n",
    "        os.makedirs(full_path, exist_ok=True)\n",
    "        \n",
    "        # Extract attachments\n",
    "        parts = msg.get('payload', {}).get('parts', [])\n",
    "        for part in parts:\n",
    "            if part['filename']:\n",
    "                if 'attachmentId' in part['body']:\n",
    "                    attachment = service.users().messages().attachments().get(\n",
    "                        userId=user_id, messageId=message['id'], id=part['body']['attachmentId']\n",
    "                    ).execute()\n",
    "                    file_data = base64.urlsafe_b64decode(attachment['data'])\n",
    "                    file_name = sanitize_folder_name(part['filename'])\n",
    "                    \n",
    "                    # Save the file\n",
    "                    file_path = os.path.join(full_path, file_name)\n",
    "                    with open(file_path, 'wb') as f:\n",
    "                        f.write(file_data)\n",
    "                    print(f\"Saved attachment: {file_name} to {full_path}\")\n",
    "        \n",
    "        # Mark email as read\n",
    "        service.users().messages().modify(\n",
    "            userId=user_id,\n",
    "            id=message['id'],\n",
    "            body={'removeLabelIds': ['UNREAD']}\n",
    "        ).execute()\n"
   ]
  },
  {
   "cell_type": "code",
   "execution_count": 3,
   "metadata": {},
   "outputs": [],
   "source": [
    "service = authenticate_gmail()"
   ]
  },
  {
   "cell_type": "code",
   "execution_count": 4,
   "metadata": {},
   "outputs": [
    {
     "name": "stdout",
     "output_type": "stream",
     "text": [
      "Fetching new email attachments...\n",
      "Processing email from: Bisma Ijaz <bismaijaz@gosaas.io> (Email: bismaijaz@gosaas.io), Date: Wed, 18 Dec 2024 09:30:57 +0000, Subject: Invitation: FDI Status Update @ Wed Dec 18, 2024 7pm - 8pm (GMT+5) (Haseeb Mahmood)\n",
      "Saved attachment: invite.ics to attachments/bismaijaz@gosaas.io/Invitation_ FDI Status Update @ Wed Dec 18, 2024 7pm - 8pm (GMT+5) (Haseeb Mahmood)\n"
     ]
    }
   ],
   "source": [
    "print(\"Fetching new email attachments...\")\n",
    "get_new_email_attachments(service)"
   ]
  }
 ],
 "metadata": {
  "kernelspec": {
   "display_name": "Python 3",
   "language": "python",
   "name": "python3"
  },
  "language_info": {
   "codemirror_mode": {
    "name": "ipython",
    "version": 3
   },
   "file_extension": ".py",
   "mimetype": "text/x-python",
   "name": "python",
   "nbconvert_exporter": "python",
   "pygments_lexer": "ipython3",
   "version": "3.10.12"
  }
 },
 "nbformat": 4,
 "nbformat_minor": 2
}
